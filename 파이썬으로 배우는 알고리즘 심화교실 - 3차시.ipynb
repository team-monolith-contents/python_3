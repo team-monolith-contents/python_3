{
 "cells": [
  {
   "cell_type": "markdown",
   "id": "2d8dd860-f8a8-4819-901a-4b8415fc85f2",
   "metadata": {
    "tags": []
   },
   "source": [
    "<div style=\"padding: 15px; border: 5px solid transparent; border-color: transparent; margin-bottom: 20px; border-radius: 4px; color: #3c763d; background-color: #dff0d8; border-color: #d6e9c6; font-weight: bold;\">\n",
    "    <br><br>\n",
    "    <div style=\"font-weight: bold; font-size: 40px\">파이썬으로 배우는 알고리즘 심화교실</div>\n",
    "    <div style=\"font-weight: bold; font-size: 20px\">(3) 컴퓨터와 대화하기</div>\n",
    "    <hr style=\"width:80%;text-align:left;margin-left:0;border:0.5px solid green\">\n",
    "    <br>\n",
    "    &#x2022; 파이썬에서의 입력 방법을 이해한다.<br>\n",
    "    &#x2022; 파이썬에서의 출력 방법을 이해한다.<br>\n",
    "    &#x2022; 숫자 야구 게임에서 정답을 입력하는 시스템을 만듭니다.<br>\n",
    "</div>"
   ]
  },
  {
   "cell_type": "markdown",
   "id": "49c5bf94-8b07-4de2-87b5-92ce3989c1c1",
   "metadata": {
    "tags": []
   },
   "source": [
    "<div style=\"padding: 15px; border: 5px solid transparent; border-color: transparent; margin-bottom: 20px; border-radius: 4px; color: #3c763d; border-color: #d6e9c6; font-weight: bold;\">\n",
    "<h2 style='font-weight: bold'>1. 입력</h2>\n",
    "</div> "
   ]
  },
  {
   "cell_type": "markdown",
   "id": "f71d3c9f-56c4-46ea-aebe-a032e268baf6",
   "metadata": {
    "tags": []
   },
   "source": [
    "### input()함수 사용하기"
   ]
  },
  {
   "cell_type": "markdown",
   "id": "6255602d-7e43-4308-827e-17481d782ea5",
   "metadata": {},
   "source": [
    "파이썬에서는 `input()` 함수를 통해서 사용자로부터 직접 입력을 받을 수 있습니다.<br>\n",
    "`input()` 함수를 사용하면 매번 다른 값을 사용해 프로그램을 실행할 수 있습니다.\n",
    "\n",
    "```python\n",
    "A = input()`\n",
    "```\n",
    "input() 함수를 사용하면 사용자로 부터 입력값을 받아옵니다.<br>\n",
    "위의 코드는 사용자로 부터 입력값을 받아와 그 입력값을 변수 `A`에 저장하는 코드입니다."
   ]
  },
  {
   "cell_type": "markdown",
   "id": "2a58a220-6ce3-43e0-bb2f-1c55cf9a7959",
   "metadata": {},
   "source": [
    "**예제 1 : 사용자로부터 입력받아오기**"
   ]
  },
  {
   "cell_type": "code",
   "execution_count": null,
   "id": "d3a6f9b9-4d4e-4d45-a35a-51aa0a375179",
   "metadata": {
    "tags": []
   },
   "outputs": [],
   "source": [
    "# 예제_1_사용자로부터_입력받아오기\n",
    "\n",
    "A = input()\n",
    "print(A)"
   ]
  },
  {
   "cell_type": "markdown",
   "id": "a1bcd603-9f20-480b-a79b-e93e8beacdda",
   "metadata": {},
   "source": [
    "<div style=\"padding: 15px; border: 5px solid transparent; border-color: transparent; margin-bottom: 20px; border-radius: 4px; color: #31708f; border-color: #bce8f1;\">\n",
    "    <div style=\"font-weight: bold; font-size: 20px\">📌 TIP</div>\n",
    "    &#x2022; input() 함수로 받은 입력값은 항상 문자열(str) 자료형을 가지고 있습니다.\n",
    "</div>"
   ]
  },
  {
   "cell_type": "markdown",
   "id": "d5d64cbb-41e8-4a8f-8145-3b59e72fbc1b",
   "metadata": {
    "tags": []
   },
   "source": [
    "### 입력 프롬프트 사용하기"
   ]
  },
  {
   "cell_type": "markdown",
   "id": "c44cbc11-f45f-4827-8c8f-1bde4021f717",
   "metadata": {},
   "source": [
    "프롬프트(prompt)를 사용하면 입력을 받을 때에 입력해야 될 값에 대한 설명을 제공합니다.<br>\n",
    "이를 통해 사용자가 정확한 값을 입력하도록 안내할 수 있습니다.\n",
    "\n",
    "input() 함수의 괄호안에 문자열을 지정해주면 입력창 앞에 해당 문자열이 출력됩니다.<br>\n",
    "\n",
    "파이썬에서는 `input()` 함수를 통해서 사용자로부터 직접 입력을 받을 수 있습니다.<br>\n",
    "`input()` 함수를 사용하면 매번 다른 값을 사용해 프로그램을 실행할 수 있습니다.<br>\n",
    "\n",
    "```python\n",
    "name = input(\"당신의 이름은 무엇입니까?\")`\n",
    "```"
   ]
  },
  {
   "cell_type": "markdown",
   "id": "2ffb96f4-8b2d-4c0d-aa39-0dd6b01b9072",
   "metadata": {},
   "source": [
    "**예제 2 : 입력 프롬프트 사용하기**"
   ]
  },
  {
   "cell_type": "code",
   "execution_count": null,
   "id": "b7807212-5db8-4670-b7c2-0106b57e99a9",
   "metadata": {
    "tags": []
   },
   "outputs": [],
   "source": [
    "# 예제_2_입력_프롬프트_사용하기\n",
    "\n",
    "name = input(\"당신의 이름은 무엇입니까?\")\n",
    "print(name)"
   ]
  },
  {
   "cell_type": "markdown",
   "id": "68306f6a-93fc-4deb-b442-123387301e44",
   "metadata": {
    "tags": []
   },
   "source": [
    "### 입력값 자료형 변환하기"
   ]
  },
  {
   "cell_type": "markdown",
   "id": "ba733e1c-08b0-4a01-ad7d-85ea2c2bd8fb",
   "metadata": {},
   "source": [
    "`input()` 함수로 받은 입력값은 항상 문자열(str)입니다.<br>\n",
    "따라서 정수나 실수를 입력값으로 받아 사용하기 위헤서는 문자열 데이터를 정수, 실수 데이터로 변환해주어야 합니다.<br>\n",
    "\n",
    "특정 데이터를 정수, 실수, 문자열로 변환하기 위해서는 각각 아래의 함수를 사용할 수 있습니다.\n",
    "\n",
    "**1. int() :** 괄호안의 값을 정수로 바꿔줍니다. (해당 데이터를 정수로 바꿀 수 없으면 오류가 발생합니다.)<br>\n",
    "**2. float():** 괄호안의 값을 실수로 바꿔줍니다. (해당 데이터를 실수로 바꿀 수 없으면 오류가 발생합니다.)<br>\n",
    "**3. str():** 괄호안의 값을 문자열로 바꿔줍니다. (해당 데이터를 문자열로 바꿀 수 없으면 오류가 발생합니다.)<br>\n",
    "\n",
    "```python\n",
    "name = input(\"당신의 이름은 무엇입니까?\")\n",
    "age = int(input(\"당신은 몇살입니가?\"))\n",
    "\n",
    "print(type(name))\n",
    "print(type(age))\n",
    "```"
   ]
  },
  {
   "cell_type": "markdown",
   "id": "19f41bb2-9089-4487-accc-10a41fbfc5ce",
   "metadata": {},
   "source": [
    "**예제 3 : 입력값의 자료형 바꾸기**"
   ]
  },
  {
   "cell_type": "code",
   "execution_count": null,
   "id": "41eb8057-68fd-455a-845c-7dd9a8cb8fc8",
   "metadata": {
    "error_code": "# 예제_3_입력값의_자료형_바꾸기\n\nname = input(\"당신의 이름은 무엇입니까?\")\nage = int(input(\"당신은 몇살입니가?\"))\n\nprint(name)\nprint(type(name))\nprint(type(age))\nprint(age)",
    "tags": []
   },
   "outputs": [],
   "source": [
    "# 예제_3_입력값의_자료형_바꾸기\n",
    "\n",
    "name = input(\"당신의 이름은 무엇입니까?\")\n",
    "age = int(input(\"당신은 몇살입니가?\"))\n",
    "\n",
    "print(name)\n",
    "print(type(name)) # name 변수의 자료형을 출력\n",
    "print(age)\n",
    "print(type(age)) # age 변수의 자료형을 출력"
   ]
  },
  {
   "cell_type": "markdown",
   "id": "13d2d967-7e17-46f2-9eeb-7f752a1daf85",
   "metadata": {},
   "source": [
    "<div style=\"padding: 15px; border: 5px solid transparent; border-color: transparent; margin-bottom: 20px; border-radius: 4px; color: #a94442; border-color: #ebccd1;\">\n",
    "    <div style=\"font-weight: bold; font-size: 20px\">💣 자주만나는 오류</div>\n",
    "    int(), float() 함수등으로 변수의 자료형을 바꿀때, 자료형을 바꿀 수 없는 경우 오류가 발생합니다.<br>\n",
    "    예를들어 문자열 \"3\"은 int() 함수 사용시 정수 3으로 자료형을 바꿀 수 있지만 문자열 \"A\"는 int() 함수 사용시 정수로 바꿀 수 없기 때문에 오류가 발생합니다.\n",
    "</div>"
   ]
  },
  {
   "cell_type": "markdown",
   "id": "63941894-0c9e-48e9-b7bb-2ec302801b9e",
   "metadata": {
    "tags": []
   },
   "source": [
    "### 한 줄에 여러개의 입력 받기"
   ]
  },
  {
   "cell_type": "markdown",
   "id": "64e8c4d6-54e2-455a-9413-d53c7b616773",
   "metadata": {},
   "source": [
    "`input()` 함수와 `split()` 메소드를 활용하면 한 줄에 여러개의 입력을 받을 수 있습니다.\n",
    "\n",
    "```python\n",
    "a,b = input().split()\n",
    "```\n",
    "\n",
    "`split()` 메소드는 문자열을 공백을 기준으로 나누어줍니다.<br>\n",
    "위의 코드에서 입력값으로 \"4 5\" 가 입력된다면 split 메소드를 통해 입력값이 \"4\"와 \"5\"로 나뉘게 되고 이 값들이 각각 a와 b에 저장되게 됩니다.\n",
    "\n",
    "주의할 점은 위의 코드에서 \n",
    "\n"
   ]
  },
  {
   "cell_type": "markdown",
   "id": "74f67b82-da43-4cec-9db4-508580a6d738",
   "metadata": {},
   "source": [
    "<div style=\"padding: 15px; border: 5px solid transparent; border-color: transparent; margin-bottom: 20px; border-radius: 4px; color: #a94442; border-color: #ebccd1;\">\n",
    "    <div style=\"font-weight: bold; font-size: 20px\">💣 자주만나는 오류</div>\n",
    "    input() 함수와 split() 메소드를 이용해 한 줄에 여러개의 입력을 받을 때에 변수의 개수와 입력값의 개수가 다르면 오류가 발생합니다.\n",
    "</div>"
   ]
  },
  {
   "cell_type": "markdown",
   "id": "7a7b4b14-fb4f-4302-8ac4-cb0233445f3d",
   "metadata": {},
   "source": [
    "**예제 4 : 한 줄에 여러개의 입력값 받기**"
   ]
  },
  {
   "cell_type": "code",
   "execution_count": null,
   "id": "5b6603a1-743a-4386-b9df-e97a333279b1",
   "metadata": {
    "error_code": "# 예제_3_입력값의_자료형_바꾸기\n\nname = input(\"당신의 이름은 무엇입니까?\")\nage = int(input(\"당신은 몇살입니가?\"))\n\nprint(name)\nprint(type(name))\nprint(type(age))\nprint(age)",
    "tags": []
   },
   "outputs": [],
   "source": [
    "# 예제_4_한_줄에_여러개의_입력값_받기\n",
    "\n",
    "a, b = input(\"숫자 2개를 공백으로 구분하여 입력해주세요 (ex) 2 3\").split()\n",
    "print(int(a) + int(b)) # 2개의 입력값을 정수로 변환하여 더한 값을 출력"
   ]
  },
  {
   "cell_type": "markdown",
   "id": "818b1080-c94f-4d8b-961d-045dc99746a5",
   "metadata": {},
   "source": [
    "<div style=\"padding: 15px; border: 5px solid transparent; border-color: transparent; margin-bottom: 20px; border-radius: 4px; color: #8a6d3b;  border-color: #faebcc;\">\n",
    "    <div style=\"font-weight: bold; font-size: 20px\">💯 연습문제를 풀어봅시다</div>\n",
    "    <br>\n",
    "    <a class=\"jcecodle-mk jcecodle-mk__problem-chip\" data-problem-id=\"180\" href='#jce-judge/open/180' target='_self'><span>입력과 출력 1</span></a>\n",
    "    <a class=\"jcecodle-mk jcecodle-mk__problem-chip\" data-problem-id=\"181\" href='#jce-judge/open/181' target='_self'><span>입력과 출력 2</span></a>\n",
    "    <a class=\"jcecodle-mk jcecodle-mk__problem-chip\" data-problem-id=\"182\" href='#jce-judge/open/182' target='_self'><span>입력과 출력 3</span></a>\n",
    "    <a class=\"jcecodle-mk jcecodle-mk__problem-chip\" data-problem-id=\"184\" href='#jce-judge/open/184' target='_self'><span>입력과 출력 5</span></a>\n",
    "    <a class=\"jcecodle-mk jcecodle-mk__problem-chip\" data-problem-id=\"186\" href='#jce-judge/open/186' target='_self'><span>입력과 출력 6</span></a>\n",
    "    <a class=\"jcecodle-mk jcecodle-mk__problem-chip\" data-problem-id=\"185\" href='#jce-judge/open/185' target='_self'><span>입력과 출력 7</span></a>\n",
    "\n",
    "\n",
    "</div>"
   ]
  },
  {
   "cell_type": "markdown",
   "id": "0f1c78d1-98cb-4620-95a0-91a092af58e0",
   "metadata": {
    "tags": []
   },
   "source": [
    "<div style=\"padding: 15px; border: 5px solid transparent; border-color: transparent; margin-bottom: 20px; border-radius: 4px; color: #3c763d; border-color: #d6e9c6; font-weight: bold;\">\n",
    "<h2 style='font-weight: bold'>2. 출력</h2>\n",
    "</div> "
   ]
  },
  {
   "cell_type": "markdown",
   "id": "1f2408e1-d46b-46fd-ae5b-7f0a9e52e9a0",
   "metadata": {},
   "source": [
    "앞에서 배웠듯이 출력은 `print()` 함수를 통해 할 수 있습니다.\n",
    "\n",
    "이번에는 `print()` 함수의 다양한 활용방법에 대해 배워보도록 하겠습니다.\n"
   ]
  },
  {
   "cell_type": "markdown",
   "id": "f9a772ab-34c1-4396-823e-d13032921a94",
   "metadata": {
    "tags": []
   },
   "source": [
    "### 여러개의 값을 한 줄에 출력하기\n"
   ]
  },
  {
   "cell_type": "markdown",
   "id": "63efb231-2d7c-4474-8bbb-d82df6a12208",
   "metadata": {},
   "source": [
    "`print()` 함수안에 여러개의 값을 ,(콤마)로 구분하여 넣어주면 여러개의 값을 공백으로 구분하여 출력합니다.\n",
    "\n",
    "```python\n",
    "print(\"A\", 123, 3.9)\n",
    "```\n",
    "\n",
    "`print()` 함수에 `sep` 매개변수를 사용하면 값 사이에 공백이 아닌 다른 문자를 넣을 수 있습니다. (sep은 구분자라는 뜻의 separator에서 따왔습니다.)\n",
    "\n",
    "```python\n",
    "print(\"A\",123,3.9, sep = '*')\n",
    "```\n",
    "\n",
    "위의 코드와 같이 `sep`에 원하는 문자열을 지정해주면 됩니다."
   ]
  },
  {
   "cell_type": "markdown",
   "id": "e890e6e5-a17a-454e-b377-946a47e3b63a",
   "metadata": {},
   "source": [
    "**예제 5 : 한 줄에 여러개의 값 출력하기**"
   ]
  },
  {
   "cell_type": "code",
   "execution_count": null,
   "id": "bb1ee6c5-b146-460f-bebb-343c9ffd2d00",
   "metadata": {
    "error_code": "# 예제_3_입력값의_자료형_바꾸기\n\nname = input(\"당신의 이름은 무엇입니까?\")\nage = int(input(\"당신은 몇살입니가?\"))\n\nprint(name)\nprint(type(name))\nprint(type(age))\nprint(age)",
    "tags": []
   },
   "outputs": [],
   "source": [
    "# 예제_5_한_줄에_여러개의_값_출력하기\n",
    "\n",
    "print(\"A\", 123, 3.9)\n",
    "print(\"A\", 123, 3.9, sep = '*')"
   ]
  },
  {
   "cell_type": "markdown",
   "id": "de096af4-29dc-493a-a404-fc05f2744d00",
   "metadata": {
    "tags": []
   },
   "source": [
    "### 여러 줄 출력하기\n"
   ]
  },
  {
   "cell_type": "markdown",
   "id": "bee60500-4654-460a-85cb-ec6ff157957d",
   "metadata": {},
   "source": [
    "`print()` 함수를 사용해 출력하면 기본적으로 출력한 뒤 줄바꿈을 해줍니다.\n",
    "\n",
    "따라서 여러 줄을 출력하기 위해서는 출력하고싶은 문자열을 `print()` 함수를 이용해 출력해주기만 하면 됩니다.\n",
    "\n",
    "```python\n",
    "print(\"A\")\n",
    "print(123)\n",
    "print(3.9)\n",
    "```\n",
    "\n",
    "`print()` 함수에 `end` 매개변수를 사용하면 출력이후 줄바꿈을 하지 않고 다른 문자열을 입력하도록 바꿀 수 있습니다.\n",
    "\n",
    "```python\n",
    "print(\"A\", end = '+')\n",
    "print(123, end = '+')\n",
    "print(3.9, end = '+')\n",
    "```\n",
    "\n",
    "위의 코드와 같이 `end`에 원하는 문자열을 지정해주면 됩니다."
   ]
  },
  {
   "cell_type": "markdown",
   "id": "16a876a4-c4dc-4e46-b4c7-8f33cc7d10be",
   "metadata": {},
   "source": [
    "<div style=\"padding: 15px; border: 5px solid transparent; border-color: transparent; margin-bottom: 20px; border-radius: 4px; color: #31708f; border-color: #bce8f1;\">\n",
    "    <div style=\"font-weight: bold; font-size: 20px\">📌 TIP</div>\n",
    "    &#x2022; 파이썬에서 줄바꿈은 개행문자(\\n)라는 특별한 문자로 표현됩니다. \n",
    "</div>"
   ]
  },
  {
   "cell_type": "markdown",
   "id": "6a5912cb-df0a-4420-95d4-ab6ea68e925b",
   "metadata": {},
   "source": [
    "**예제 6 : 줄바꿈하여 출력하기**"
   ]
  },
  {
   "cell_type": "code",
   "execution_count": null,
   "id": "35ebe31f-b3ef-498d-a8c8-fd462b4c2e9a",
   "metadata": {
    "error_code": "# 예제_3_입력값의_자료형_바꾸기\n\nname = input(\"당신의 이름은 무엇입니까?\")\nage = int(input(\"당신은 몇살입니가?\"))\n\nprint(name)\nprint(type(name))\nprint(type(age))\nprint(age)",
    "tags": []
   },
   "outputs": [],
   "source": [
    "# 예제_6_줄바꿈하여_출력하기\n",
    "print(\"A\")\n",
    "print(123)\n",
    "print(3.9)"
   ]
  },
  {
   "cell_type": "markdown",
   "id": "b08f997d-ad12-41f3-aeda-bfb404322a0b",
   "metadata": {},
   "source": [
    "**예제 7 : end 사용하여 한줄에 출력하기**"
   ]
  },
  {
   "cell_type": "code",
   "execution_count": null,
   "id": "80b35961-aab7-4233-ba35-89e0a0e86e51",
   "metadata": {
    "tags": []
   },
   "outputs": [],
   "source": [
    "# 예제_7_end_사용하여_한줄에_출력하기\n",
    "print(\"A\", end = '')\n",
    "print(123, end = '')\n",
    "print(3.9, end = '')"
   ]
  },
  {
   "cell_type": "markdown",
   "id": "69fa5f56-1a33-4c14-bb3c-d5bcebc638aa",
   "metadata": {},
   "source": [
    "**예제 8 : 출력시에 2줄씩 줄바꿈하기**"
   ]
  },
  {
   "cell_type": "code",
   "execution_count": null,
   "id": "ec3887f7-f05e-4c35-878e-d237ae3a8f3f",
   "metadata": {
    "tags": []
   },
   "outputs": [],
   "source": [
    "# 예제_8_출력시에_2줄씩_줄바꿈하기\n",
    "# print 시에 2줄씩 줄바꿈하기\n",
    "print(\"A\", end = '\\n\\n')\n",
    "print(123, end = '\\n\\n')\n",
    "print(3.9, end = '\\n\\n')"
   ]
  },
  {
   "cell_type": "markdown",
   "id": "7d7b2b32-21ca-44de-a696-f659618a9c7e",
   "metadata": {},
   "source": [
    "<div style=\"padding: 15px; border: 5px solid transparent; border-color: transparent; margin-bottom: 20px; border-radius: 4px; color: #8a6d3b;  border-color: #faebcc;\">\n",
    "    <div style=\"font-weight: bold; font-size: 20px\">💯 연습문제를 풀어봅시다</div>\n",
    "    <br>\n",
    "    <a class=\"jcecodle-mk jcecodle-mk__problem-chip\" data-problem-id=\"183\" href='#jce-judge/open/183' target='_self'><span>입력과 출력 4</span></a>\n",
    "    <a class=\"jcecodle-mk jcecodle-mk__problem-chip\" data-problem-id=\"187\" href='#jce-judge/open/187' target='_self'><span>입력과 출력 8</span></a>\n",
    "    <a class=\"jcecodle-mk jcecodle-mk__problem-chip\" data-problem-id=\"188\" href='#jce-judge/open/188' target='_self'><span>입력과 출력 9</span></a>\n",
    "\n",
    "</div>"
   ]
  },
  {
   "cell_type": "markdown",
   "id": "71433973-fb20-4776-bce0-8e50cbc86601",
   "metadata": {
    "tags": []
   },
   "source": [
    "<div style=\"padding: 15px; border: 5px solid transparent; border-color: transparent; margin-bottom: 20px; border-radius: 4px; color: #3c763d; border-color: #d6e9c6; font-weight: bold;\">\n",
    "<h2 style='font-weight: bold'>프로젝트</h2>\n",
    "숫자 야구 게임의 정답 입력 시스템을 만들어봅시다.\n",
    "</div> "
   ]
  },
  {
   "cell_type": "markdown",
   "id": "e2020934-d84b-4a61-8b8c-c71f7bf12739",
   "metadata": {},
   "source": [
    "플레이어는 매 차례마다 자신이 예측한 값을 입력합니다.<br>\n",
    "컴퓨터는 입력을 기반으로 계산하여 힌트를 제공합니다.<br>\n",
    "따라서 숫자 야구 게임에서는 컴퓨터에게 예측한 값을 입력하는 시스템이 필요합니다.<br>\n",
    "\n",
    "이번 시간에는 플레이어가 정답을 입력하는 시스템을 만드는 것을 목표로 합니다.<br>\n",
    "\n",
    "**목표:**\n",
    "플레이어가 자신이 예측한 값을 입력하고 컴퓨터는 입력한 값을 출력해줍니다.\n",
    "\n",
    "<table>\n",
    "<tr>\n",
    "    <th>\n",
    "        <img src=\"https://tmn-bucket-materials-all.s3.ap-northeast-2.amazonaws.com/image/dissac/dissac_nepes_4_03_01.PNG\" width=\"750\"></th>\n",
    "<tr>\n",
    "    <th>프로젝트 목표</th>\n",
    "</tr>\n",
    "</table>"
   ]
  },
  {
   "cell_type": "code",
   "execution_count": null,
   "id": "7056cf84-ac89-4b40-98a7-937ef479e8d7",
   "metadata": {
    "error_code": "# 정답코드\nplayer = input(\"정답을 입력해주세요\")\nprint(\"입력한 정답은 \", player, \" 입니다.\")",
    "tags": []
   },
   "outputs": [],
   "source": [
    "# 정답코드\n",
    "player = input(\"정답을 입력해주세요\")\n",
    "print(\"입력한 정답은 \", player, \" 입니다.\")"
   ]
  }
 ],
 "metadata": {
  "kernelspec": {
   "display_name": "Python 3 (ipykernel)",
   "language": "python",
   "name": "python3"
  },
  "language_info": {
   "codemirror_mode": {
    "name": "ipython",
    "version": 3
   },
   "file_extension": ".py",
   "mimetype": "text/x-python",
   "name": "python",
   "nbconvert_exporter": "python",
   "pygments_lexer": "ipython3",
   "version": "3.10.12"
  }
 },
 "nbformat": 4,
 "nbformat_minor": 5
}
